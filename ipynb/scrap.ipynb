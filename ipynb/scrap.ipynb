{
 "cells": [
  {
   "cell_type": "code",
   "execution_count": null,
   "metadata": {},
   "outputs": [],
   "source": [
    "from skimage.filters import sobel\n",
    "from skimage import morphology\n",
    "\n",
    "frame_idx = 16\n",
    "frame_data = rgb2gray(vid_data[frame_idx])\n",
    "elevation_map = sobel(frame_data)\n",
    "markers = np.zeros_like(frame_data)\n",
    "markers[frame_data < 10] = 1\n",
    "markers[frame_data > 230] = 2\n",
    "segmentation = morphology.watershed(elevation_map, markers)\n",
    "\n",
    "fig, ax = plt.subplots(figsize=(12, 4))\n",
    "plt.subplot(131)\n",
    "plt.imshow(elevation_map, cmap=plt.cm.gray, interpolation='nearest')\n",
    "plt.subplot(132)\n",
    "plt.imshow(markers, cmap=plt.cm.spectral, interpolation='nearest')\n",
    "plt.subplot(133)\n",
    "ax.imshow(segmentation, cmap=plt.cm.gray, interpolation='nearest')"
   ]
  },
  {
   "cell_type": "code",
   "execution_count": null,
   "metadata": {},
   "outputs": [],
   "source": [
    "from scipy import ndimage as ndi\n",
    "from skimage import morphology\n",
    "\n",
    "frame_idx = 26\n",
    "frame_data = vid_data[frame_idx]\n",
    "frame_data[background[frame_idx]] = 255\n",
    "seeds = ndi.label(frame_data > 250)[0]\n",
    "ws = morphology.watershed(frame_data, seeds)\n",
    "\n",
    "plt.figure()\n",
    "plt.subplot(131)\n",
    "plt.imshow(frame_data)\n",
    "plt.subplot(132)\n",
    "plt.imshow(seeds)\n",
    "plt.subplot(133)\n",
    "plt.imshow(ws)"
   ]
  },
  {
   "cell_type": "code",
   "execution_count": null,
   "metadata": {},
   "outputs": [],
   "source": [
    "from skimage.segmentation import random_walker\n",
    "frame_idx = 16\n",
    "frame_data = vid_data[frame_idx]\n",
    "labels = -np.ones([frame_height,frame_width])\n",
    "labels[foreground[frame_idx]] = 1\n",
    "seg = random_walker(frame_data, labels)\n",
    "plt.figure()\n",
    "plt.subplot(121)\n",
    "plt.imshow(foreground[frame_idx], cmap='gray')\n",
    "plt.subplot(122)\n",
    "plt.imshow(seg, cmap='gray')"
   ]
  },
  {
   "cell_type": "code",
   "execution_count": null,
   "metadata": {
    "collapsed": true
   },
   "outputs": [],
   "source": [
    "from skimage.feature import blob_log\n",
    "from skimage.color import rgb2gray\n",
    "\n",
    "frame_idx = 16\n",
    "frame_data = vid_data[frame_idx]\n",
    "blobs = blob_log(rgb2gray(frame_data),\n",
    "                 max_sigma=30,\n",
    "                 num_sigma=10,\n",
    "                 threshold=.05)\n",
    "blobs[:, 2] = blobs[:, 2] * np.sqrt(2)\n",
    "\n",
    "fig,ax = plt.subplots(1,1)\n",
    "ax.imshow(frame_data)\n",
    "for blob in blobs:\n",
    "    y,x,r = blob\n",
    "    c = plt.Circle((x,y), r, lw=2, fill=False)\n",
    "    ax.add_patch(c)\n",
    "\n",
    "plt.tight_layout()"
   ]
  }
 ],
 "metadata": {
  "kernelspec": {
   "display_name": "Python 2",
   "language": "python",
   "name": "python2"
  },
  "language_info": {
   "codemirror_mode": {
    "name": "ipython",
    "version": 2
   },
   "file_extension": ".py",
   "mimetype": "text/x-python",
   "name": "python",
   "nbconvert_exporter": "python",
   "pygments_lexer": "ipython2",
   "version": "2.7.13"
  }
 },
 "nbformat": 4,
 "nbformat_minor": 2
}
